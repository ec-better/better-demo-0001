{
 "cells": [
  {
   "cell_type": "code",
   "execution_count": 1,
   "metadata": {
    "collapsed": false
   },
   "outputs": [],
   "source": [
    "import nbformat as nbf\n",
    "nb_source = 'input.ipynb'\n",
    "nb = nbf.read(nb_source, 4)"
   ]
  },
  {
   "cell_type": "code",
   "execution_count": 2,
   "metadata": {
    "collapsed": false
   },
   "outputs": [
    {
     "data": {
      "text/plain": [
       "{u'cell_type': u'code',\n",
       " u'execution_count': 1,\n",
       " u'metadata': {u'collapsed': True},\n",
       " u'outputs': [],\n",
       " u'source': u\"filterSizeX = '5'\"}"
      ]
     },
     "execution_count": 2,
     "metadata": {},
     "output_type": "execute_result"
    }
   ],
   "source": [
    "nb['cells'][2]"
   ]
  },
  {
   "cell_type": "code",
   "execution_count": 3,
   "metadata": {
    "collapsed": false
   },
   "outputs": [
    {
     "data": {
      "text/plain": [
       "{u'cell_type': u'code',\n",
       " u'execution_count': 2,\n",
       " u'metadata': {u'collapsed': True},\n",
       " u'outputs': [],\n",
       " u'source': u\"filterSizeY = '5'\"}"
      ]
     },
     "execution_count": 3,
     "metadata": {},
     "output_type": "execute_result"
    }
   ],
   "source": [
    "nb['cells'][4]"
   ]
  },
  {
   "cell_type": "code",
   "execution_count": 4,
   "metadata": {
    "collapsed": false
   },
   "outputs": [
    {
     "data": {
      "text/plain": [
       "{u'cell_type': u'code',\n",
       " u'execution_count': 3,\n",
       " u'metadata': {u'collapsed': True},\n",
       " u'outputs': [],\n",
       " u'source': u\"polarisation = 'VV'\"}"
      ]
     },
     "execution_count": 4,
     "metadata": {},
     "output_type": "execute_result"
    }
   ],
   "source": [
    "nb['cells'][6]"
   ]
  },
  {
   "cell_type": "code",
   "execution_count": 5,
   "metadata": {
    "collapsed": false
   },
   "outputs": [
    {
     "data": {
      "text/plain": [
       "{u'cell_type': u'code',\n",
       " u'execution_count': 4,\n",
       " u'metadata': {u'collapsed': False},\n",
       " u'outputs': [],\n",
       " u'source': u\"wkt = 'POLYGON((68.03586 37.15143, 68.13586 37.15143, 68.13586 37.25143, 68.03586 37.25143, 68.03586 37.15143))'\"}"
      ]
     },
     "execution_count": 5,
     "metadata": {},
     "output_type": "execute_result"
    }
   ],
   "source": [
    "nb['cells'][8]"
   ]
  },
  {
   "cell_type": "code",
   "execution_count": 6,
   "metadata": {
    "collapsed": false
   },
   "outputs": [
    {
     "data": {
      "text/plain": [
       "{u'cell_type': u'code',\n",
       " u'execution_count': 6,\n",
       " u'metadata': {u'collapsed': True},\n",
       " u'outputs': [],\n",
       " u'source': u\"data_path = '/workspace/data'\"}"
      ]
     },
     "execution_count": 6,
     "metadata": {},
     "output_type": "execute_result"
    }
   ],
   "source": [
    "nb['cells'][10]"
   ]
  },
  {
   "cell_type": "code",
   "execution_count": 7,
   "metadata": {
    "collapsed": false
   },
   "outputs": [
    {
     "data": {
      "text/plain": [
       "{u'cell_type': u'code',\n",
       " u'execution_count': 7,\n",
       " u'metadata': {u'collapsed': True},\n",
       " u'outputs': [],\n",
       " u'source': u\"s1_identifier = 'S1A_IW_GRDH_1SDV_20170906T013058_20170906T013123_018248_01EADD_CC2A'\"}"
      ]
     },
     "execution_count": 7,
     "metadata": {},
     "output_type": "execute_result"
    }
   ],
   "source": [
    "nb['cells'][11]"
   ]
  },
  {
   "cell_type": "code",
   "execution_count": null,
   "metadata": {
    "collapsed": true
   },
   "outputs": [],
   "source": []
  }
 ],
 "metadata": {
  "kernelspec": {
   "display_name": "Python 2",
   "language": "python",
   "name": "python2"
  },
  "language_info": {
   "codemirror_mode": {
    "name": "ipython",
    "version": 2
   },
   "file_extension": ".py",
   "mimetype": "text/x-python",
   "name": "python",
   "nbconvert_exporter": "python",
   "pygments_lexer": "ipython2",
   "version": "2.7.12"
  }
 },
 "nbformat": 4,
 "nbformat_minor": 2
}
